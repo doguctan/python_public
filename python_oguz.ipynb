{
  "nbformat": 4,
  "nbformat_minor": 0,
  "metadata": {
    "colab": {
      "name": "python_oguz.ipynb",
      "provenance": [],
      "collapsed_sections": [],
      "authorship_tag": "ABX9TyMxsc8HPEdsVvG+GL4Mn5hl",
      "include_colab_link": true
    },
    "kernelspec": {
      "name": "python3",
      "display_name": "Python 3"
    },
    "language_info": {
      "name": "python"
    }
  },
  "cells": [
    {
      "cell_type": "markdown",
      "metadata": {
        "id": "view-in-github",
        "colab_type": "text"
      },
      "source": [
        "<a href=\"https://colab.research.google.com/github/doguctan/python_public/blob/main/python_oguz.ipynb\" target=\"_parent\"><img src=\"https://colab.research.google.com/assets/colab-badge.svg\" alt=\"Open In Colab\"/></a>"
      ]
    },
    {
      "cell_type": "markdown",
      "metadata": {
        "id": "8pKIxxS3zAEB"
      },
      "source": [
        "#Import Libraries"
      ]
    },
    {
      "cell_type": "code",
      "metadata": {
        "id": "sMX_SXePzBYn"
      },
      "source": [
        "import pandas as pd\n",
        "import numpy as np\n",
        "from datetime import datetime\n",
        "\n",
        "#need to transform data\n",
        "from sklearn.impute import SimpleImputer\n",
        "from sklearn.model_selection import train_test_split\n",
        "from sklearn.preprocessing import StandardScaler\n",
        "#need to transform data\n",
        "\n",
        "#need to apply model\n",
        "from sklearn.linear_model import LogisticRegression\n",
        "#need to apply model"
      ],
      "execution_count": 1,
      "outputs": []
    },
    {
      "cell_type": "markdown",
      "metadata": {
        "id": "9kIC92vky7o5"
      },
      "source": [
        "#Get data"
      ]
    },
    {
      "cell_type": "code",
      "metadata": {
        "colab": {
          "base_uri": "https://localhost:8080/"
        },
        "id": "Knte46oAy74L",
        "outputId": "a20e90cc-23ac-477d-dea3-edf02c4da44d"
      },
      "source": [
        "! git clone https://github.com/doguctan/python_public\n",
        "%cd /content/python_public/data\n",
        "\n",
        "rawdata=pd.read_csv('usdtry_10min.csv')\n",
        "\n",
        "print(rawdata.head())\n"
      ],
      "execution_count": 5,
      "outputs": [
        {
          "output_type": "stream",
          "text": [
            "               date    open    high     low   close\n",
            "0  11/12/2019 20:00  5.8120  5.8122  5.8114  5.8115\n",
            "1  11/12/2019 20:10  5.8115  5.8116  5.8088  5.8107\n",
            "2  11/12/2019 20:20  5.8107  5.8108  5.8086  5.8087\n",
            "3  11/12/2019 20:30  5.8087  5.8094  5.8084  5.8092\n",
            "4  11/12/2019 20:40  5.8092  5.8095  5.8071  5.8074\n"
          ],
          "name": "stdout"
        }
      ]
    },
    {
      "cell_type": "markdown",
      "metadata": {
        "id": "NBP0DYic0VjM"
      },
      "source": [
        "#Create features for prediction"
      ]
    },
    {
      "cell_type": "code",
      "metadata": {
        "id": "DCBXrDa40aQV"
      },
      "source": [
        "#first attemp  find previous days return\n",
        "#then add the previous nth days return"
      ],
      "execution_count": null,
      "outputs": []
    },
    {
      "cell_type": "markdown",
      "metadata": {
        "id": "OFjcejeQ0tC2"
      },
      "source": [
        "#Train test split\n"
      ]
    },
    {
      "cell_type": "code",
      "metadata": {
        "id": "B7b2X1ML056g"
      },
      "source": [
        "#Google how to split data into train and test with sckit learn\n"
      ],
      "execution_count": null,
      "outputs": []
    },
    {
      "cell_type": "markdown",
      "metadata": {
        "id": "TFRhOP2U0dIO"
      },
      "source": [
        "#Apply logistic regression model"
      ]
    },
    {
      "cell_type": "code",
      "metadata": {
        "id": "XCh79U_f08mQ"
      },
      "source": [
        "#Use sckit learn\n",
        "classifier = LogisticRegression(random_state = 0, multi_class='auto',solver='lbfgs', max_iter=1000)\n",
        "\n",
        "#Train the model\n",
        "\n",
        "#Apply the trained model\n"
      ],
      "execution_count": null,
      "outputs": []
    }
  ]
}